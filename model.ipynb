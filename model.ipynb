{
 "cells": [
  {
   "cell_type": "code",
   "execution_count": 12,
   "id": "5032d7d5-f114-4be8-84fe-eca1bf153cde",
   "metadata": {},
   "outputs": [],
   "source": [
    "import pandas as pd\n",
    "import numpy as np\n",
    "import tensorflow as tf\n",
    "import keras\n",
    "import matplotlib.pyplot as plt\n",
    "from tensorflow.keras import Model, Sequential\n",
    "from tensorflow.keras.preprocessing.text import Tokenizer\n",
    "from tensorflow.keras.preprocessing.text import text_to_word_sequence\n",
    "from tensorflow.keras.layers import *\n",
    "from sklearn.model_selection import train_test_split\n",
    "from tensorflow.keras.preprocessing.sequence import pad_sequences\n",
    "from sklearn.metrics import classification_report, confusion_matrix"
   ]
  },
  {
   "cell_type": "markdown",
   "id": "1fc280b1-d49c-4688-a851-061b9c4c021d",
   "metadata": {},
   "source": [
    "## Data Preparation"
   ]
  },
  {
   "cell_type": "code",
   "execution_count": 13,
   "id": "c7876c34-ddc6-446f-bfcb-ae966c0ebe13",
   "metadata": {},
   "outputs": [],
   "source": [
    "df = pd.read_csv('preprocessed_data.csv', )"
   ]
  },
  {
   "cell_type": "code",
   "execution_count": 14,
   "id": "bb0accb9-011c-43e8-a261-2c042af4bf44",
   "metadata": {},
   "outputs": [
    {
     "data": {
      "text/html": [
       "<div>\n",
       "<style scoped>\n",
       "    .dataframe tbody tr th:only-of-type {\n",
       "        vertical-align: middle;\n",
       "    }\n",
       "\n",
       "    .dataframe tbody tr th {\n",
       "        vertical-align: top;\n",
       "    }\n",
       "\n",
       "    .dataframe thead th {\n",
       "        text-align: right;\n",
       "    }\n",
       "</style>\n",
       "<table border=\"1\" class=\"dataframe\">\n",
       "  <thead>\n",
       "    <tr style=\"text-align: right;\">\n",
       "      <th></th>\n",
       "      <th>text</th>\n",
       "      <th>label</th>\n",
       "    </tr>\n",
       "  </thead>\n",
       "  <tbody>\n",
       "    <tr>\n",
       "      <th>0</th>\n",
       "      <td>feel really helpless heavy hearted</td>\n",
       "      <td>4</td>\n",
       "    </tr>\n",
       "    <tr>\n",
       "      <th>1</th>\n",
       "      <td>ive enjoy able slouch relax unwind frankly nee...</td>\n",
       "      <td>0</td>\n",
       "    </tr>\n",
       "    <tr>\n",
       "      <th>2</th>\n",
       "      <td>give internship dmrg feel distraught</td>\n",
       "      <td>4</td>\n",
       "    </tr>\n",
       "    <tr>\n",
       "      <th>3</th>\n",
       "      <td>dont know feel lose</td>\n",
       "      <td>0</td>\n",
       "    </tr>\n",
       "    <tr>\n",
       "      <th>4</th>\n",
       "      <td>kindergarten teacher thoroughly weary job take...</td>\n",
       "      <td>4</td>\n",
       "    </tr>\n",
       "  </tbody>\n",
       "</table>\n",
       "</div>"
      ],
      "text/plain": [
       "                                                text  label\n",
       "0                 feel really helpless heavy hearted      4\n",
       "1  ive enjoy able slouch relax unwind frankly nee...      0\n",
       "2               give internship dmrg feel distraught      4\n",
       "3                                dont know feel lose      0\n",
       "4  kindergarten teacher thoroughly weary job take...      4"
      ]
     },
     "execution_count": 14,
     "metadata": {},
     "output_type": "execute_result"
    }
   ],
   "source": [
    "df.head()"
   ]
  },
  {
   "cell_type": "code",
   "execution_count": 15,
   "id": "623d897d-9a73-4ac4-a601-f48bcb612185",
   "metadata": {},
   "outputs": [],
   "source": [
    "#train test split\n",
    "X = df['text']\n",
    "y = df['label']\n",
    "\n",
    "X_train, X_test, y_train, y_test = train_test_split(X, y, test_size=0.2, random_state=42)\n",
    "X_train = X_train.astype(str)\n",
    "X_test = X_test.astype(str)"
   ]
  },
  {
   "cell_type": "code",
   "execution_count": 16,
   "id": "361ecb3a-e88a-44cf-91d0-5c3c5e701ced",
   "metadata": {},
   "outputs": [],
   "source": [
    "#Tokenization of text data\n",
    "tokenizer = Tokenizer(num_words = 50000)\n",
    "tokenizer.fit_on_texts(X_train)\n",
    "X_train_sequence = tokenizer.texts_to_sequences(X_train)\n",
    "X_test_sequence = tokenizer.texts_to_sequences(X_test)"
   ]
  },
  {
   "cell_type": "code",
   "execution_count": 17,
   "id": "a2184e3d-6c0b-4a93-908d-b9c5bd9511da",
   "metadata": {},
   "outputs": [
    {
     "name": "stdout",
     "output_type": "stream",
     "text": [
      "79\n"
     ]
    }
   ],
   "source": [
    "length = max(len(tokens) for tokens in X_train_sequence)\n",
    "print(length)"
   ]
  },
  {
   "cell_type": "code",
   "execution_count": 18,
   "id": "31660662-e9f7-41dd-a462-cd0dde4bad8d",
   "metadata": {},
   "outputs": [
    {
     "name": "stdout",
     "output_type": "stream",
     "text": [
      "X train padded\n",
      "[[   0    0    0 ...  485 8280  954]\n",
      " [   0    0    0 ...  219  715   13]\n",
      " [   0    0    0 ... 1758  247 5851]\n",
      " ...\n",
      " [   0    0    0 ...    0    1  603]\n",
      " [   0    0    0 ...  247 5310  648]\n",
      " [   0    0    0 ...    1  177 1611]]\n",
      "X test padded\n",
      "[[   0    0    0 ...  571   15  632]\n",
      " [   0    0    0 ... 7456 3204  748]\n",
      " [   0    0    0 ...  722 2228  148]\n",
      " ...\n",
      " [   0    0    0 ...    1  517 2161]\n",
      " [   0    0    0 ...    1 1094  420]\n",
      " [   0    0    0 ... 1088 8458   24]]\n"
     ]
    }
   ],
   "source": [
    "X_train = pad_sequences(X_train_sequence, maxlen=length)\n",
    "X_test = pad_sequences(X_test_sequence, maxlen=length)\n",
    "\n",
    "print('X train padded')\n",
    "print(X_train)\n",
    "print('X test padded')\n",
    "print(X_test)"
   ]
  },
  {
   "cell_type": "code",
   "execution_count": 19,
   "id": "4548fe87-a639-4323-86a9-2408b0087845",
   "metadata": {},
   "outputs": [
    {
     "data": {
      "text/plain": [
       "50000"
      ]
     },
     "execution_count": 19,
     "metadata": {},
     "output_type": "execute_result"
    }
   ],
   "source": [
    "input_size = np.max(X_train) + 1\n",
    "input_size"
   ]
  },
  {
   "cell_type": "markdown",
   "id": "0df223fb-6f38-4f6f-a17b-592b900c0c75",
   "metadata": {},
   "source": [
    "## Model Initialization"
   ]
  },
  {
   "cell_type": "code",
   "execution_count": 26,
   "id": "2f60b2e0-ad3e-4b66-9a4d-e23efd6c5edf",
   "metadata": {},
   "outputs": [],
   "source": [
    "model = Sequential()\n",
    "    \n",
    "model.add(Embedding(input_dim=input_size, output_dim=60, input_length=length))\n",
    "model.add(Dropout(0.5))\n",
    "model.add(Bidirectional(LSTM(256, return_sequences=True)))\n",
    "model.add(Dropout(0.5))\n",
    "model.add(Bidirectional(LSTM(128, return_sequences=True)))\n",
    "model.add(LayerNormalization())\n",
    "model.add(Bidirectional(LSTM(64)))\n",
    "model.add(LayerNormalization())\n",
    "model.add(Dense(6, activation='softmax'))\n",
    "    \n",
    "model.compile(loss='sparse_categorical_crossentropy', \n",
    "              optimizer = keras.optimizers.Adam(),\n",
    "              metrics=['accuracy'])"
   ]
  },
  {
   "cell_type": "code",
   "execution_count": 27,
   "id": "96943f1b-1a3a-460a-9c68-8b1a65c15275",
   "metadata": {
    "scrolled": true
   },
   "outputs": [
    {
     "name": "stdout",
     "output_type": "stream",
     "text": [
      "Model: \"sequential_2\"\n",
      "_________________________________________________________________\n",
      " Layer (type)                Output Shape              Param #   \n",
      "=================================================================\n",
      " embedding_2 (Embedding)     (None, 79, 60)            3000000   \n",
      "                                                                 \n",
      " dropout_2 (Dropout)         (None, 79, 60)            0         \n",
      "                                                                 \n",
      " bidirectional_6 (Bidirecti  (None, 79, 512)           649216    \n",
      " onal)                                                           \n",
      "                                                                 \n",
      " dropout_3 (Dropout)         (None, 79, 512)           0         \n",
      "                                                                 \n",
      " bidirectional_7 (Bidirecti  (None, 79, 256)           656384    \n",
      " onal)                                                           \n",
      "                                                                 \n",
      " layer_normalization_4 (Lay  (None, 79, 256)           512       \n",
      " erNormalization)                                                \n",
      "                                                                 \n",
      " bidirectional_8 (Bidirecti  (None, 128)               164352    \n",
      " onal)                                                           \n",
      "                                                                 \n",
      " layer_normalization_5 (Lay  (None, 128)               256       \n",
      " erNormalization)                                                \n",
      "                                                                 \n",
      " dense_2 (Dense)             (None, 6)                 774       \n",
      "                                                                 \n",
      "=================================================================\n",
      "Total params: 4471494 (17.06 MB)\n",
      "Trainable params: 4471494 (17.06 MB)\n",
      "Non-trainable params: 0 (0.00 Byte)\n",
      "_________________________________________________________________\n"
     ]
    }
   ],
   "source": [
    "model.summary()"
   ]
  },
  {
   "cell_type": "markdown",
   "id": "720e5ade-51dc-43cc-a698-3ae45d9417a3",
   "metadata": {},
   "source": [
    "## Model training"
   ]
  },
  {
   "cell_type": "code",
   "execution_count": 28,
   "id": "18db7025-ba5a-42c6-a50a-854e8b43d02e",
   "metadata": {},
   "outputs": [
    {
     "name": "stdout",
     "output_type": "stream",
     "text": [
      "Epoch 1/5\n",
      "652/652 [==============================] - 1720s 3s/step - loss: 0.4922 - accuracy: 0.8076 - val_loss: 0.1444 - val_accuracy: 0.9253\n",
      "Epoch 2/5\n",
      "652/652 [==============================] - 1699s 3s/step - loss: 0.1460 - accuracy: 0.9252 - val_loss: 0.1233 - val_accuracy: 0.9306\n",
      "Epoch 3/5\n",
      "652/652 [==============================] - 1711s 3s/step - loss: 0.1244 - accuracy: 0.9314 - val_loss: 0.1188 - val_accuracy: 0.9296\n",
      "Epoch 4/5\n",
      "652/652 [==============================] - 1751s 3s/step - loss: 0.1163 - accuracy: 0.9339 - val_loss: 0.1167 - val_accuracy: 0.9325\n",
      "Epoch 5/5\n",
      "652/652 [==============================] - 1721s 3s/step - loss: 0.1109 - accuracy: 0.9353 - val_loss: 0.1161 - val_accuracy: 0.9323\n"
     ]
    },
    {
     "data": {
      "text/plain": [
       "<keras.src.callbacks.History at 0x1f6db2f1450>"
      ]
     },
     "execution_count": 28,
     "metadata": {},
     "output_type": "execute_result"
    }
   ],
   "source": [
    "model.fit(X_train, y_train,\n",
    "          epochs=5,\n",
    "          batch_size=512, \n",
    "          validation_data=[X_test, y_test])"
   ]
  },
  {
   "cell_type": "code",
   "execution_count": 29,
   "id": "364e361c-71a2-40b9-808d-98470088f7c5",
   "metadata": {},
   "outputs": [],
   "source": [
    "losses = pd.DataFrame(model.history.history)"
   ]
  },
  {
   "cell_type": "code",
   "execution_count": 30,
   "id": "e784a969-7650-443d-955e-d6d2534e910d",
   "metadata": {},
   "outputs": [
    {
     "data": {
      "text/plain": [
       "<Axes: >"
      ]
     },
     "execution_count": 30,
     "metadata": {},
     "output_type": "execute_result"
    },
    {
     "data": {
      "image/png": "[encoded data removed]",
      "text/plain": [
       "<Figure size 640x480 with 1 Axes>"
      ]
     },
     "metadata": {},
     "output_type": "display_data"
    }
   ],
   "source": [
    "losses[['loss', 'val_loss']].plot()"
   ]
  },
  {
   "cell_type": "code",
   "execution_count": 31,
   "id": "1c3b4a3e-7910-4d38-a6eb-5af02633cfac",
   "metadata": {},
   "outputs": [
    {
     "name": "stdout",
     "output_type": "stream",
     "text": [
      "2606/2606 [==============================] - 240s 91ms/step\n"
     ]
    }
   ],
   "source": [
    "predict = model.predict(X_test)\n",
    "classes_x = np.argmax(predict, axis=1)"
   ]
  },
  {
   "cell_type": "code",
   "execution_count": 32,
   "id": "e651876a-d5e1-4aab-bb85-42f36323f37b",
   "metadata": {},
   "outputs": [
    {
     "data": {
      "text/plain": [
       "array([[23713,    81,    32,    70,   291,    14],\n",
       "       [   72, 25674,  2047,    69,    44,   258],\n",
       "       [   56,   208,  6621,    27,    11,     6],\n",
       "       [  608,    61,     6, 10434,   331,     1],\n",
       "       [  220,    52,     7,   200,  9101,    14],\n",
       "       [   22,     8,     3,     1,   826,  2173]], dtype=int64)"
      ]
     },
     "execution_count": 32,
     "metadata": {},
     "output_type": "execute_result"
    }
   ],
   "source": [
    "confusion_matrix(y_test, classes_x)"
   ]
  },
  {
   "cell_type": "code",
   "execution_count": 33,
   "id": "384b5b3a-bf10-4efc-a622-4af163f487e6",
   "metadata": {},
   "outputs": [
    {
     "name": "stdout",
     "output_type": "stream",
     "text": [
      "              precision    recall  f1-score   support\n",
      "\n",
      "           0       0.96      0.98      0.97     24201\n",
      "           1       0.98      0.91      0.95     28164\n",
      "           2       0.76      0.96      0.85      6929\n",
      "           3       0.97      0.91      0.94     11441\n",
      "           4       0.86      0.95      0.90      9594\n",
      "           5       0.88      0.72      0.79      3033\n",
      "\n",
      "    accuracy                           0.93     83362\n",
      "   macro avg       0.90      0.90      0.90     83362\n",
      "weighted avg       0.94      0.93      0.93     83362\n",
      "\n"
     ]
    }
   ],
   "source": [
    "print(classification_report(y_test, classes_x))"
   ]
  },
  {
   "cell_type": "code",
   "execution_count": 34,
   "id": "1db1942c-20db-45a1-b348-326c6f21dfbc",
   "metadata": {},
   "outputs": [],
   "source": [
    "model.save('model.keras')"
   ]
  },
  {
   "cell_type": "code",
   "execution_count": null,
   "id": "d8326609-abdb-4106-b22f-ebffbeb9c054",
   "metadata": {},
   "outputs": [],
   "source": []
  }
 ],
 "metadata": {
  "kernelspec": {
   "display_name": "Python 3 (ipykernel)",
   "language": "python",
   "name": "python3"
  },
  "language_info": {
   "codemirror_mode": {
    "name": "ipython",
    "version": 3
   },
   "file_extension": ".py",
   "mimetype": "text/x-python",
   "name": "python",
   "nbconvert_exporter": "python",
   "pygments_lexer": "ipython3",
   "version": "3.11.9"
  }
 },
 "nbformat": 4,
 "nbformat_minor": 5
}
